{
 "cells": [
  {
   "cell_type": "code",
   "execution_count": 1,
   "id": "1af61d10",
   "metadata": {},
   "outputs": [],
   "source": [
    "import pandas as pd\n",
    "import numpy as np\n",
    "from selenium import webdriver\n",
    "from selenium.webdriver import ActionChains\n",
    "from selenium.webdriver.common.by import By\n",
    "from selenium.webdriver.support.ui import WebDriverWait\n",
    "from selenium.webdriver.support import expected_conditions as EC\n",
    "from selenium.webdriver.common.keys import Keys\n",
    "from sklearn.preprocessing import LabelEncoder\n",
    "import time\n",
    "import warnings\n",
    "warnings.filterwarnings('ignore')\n",
    "from sklearn.preprocessing import LabelEncoder\n",
    "import seaborn as sns\n",
    "import matplotlib.pylab as plt\n",
    "import pickle"
   ]
  },
  {
   "cell_type": "markdown",
   "id": "9fa505b2",
   "metadata": {},
   "source": [
    "# Generating / Loading table"
   ]
  },
  {
   "cell_type": "markdown",
   "id": "0a2b0876",
   "metadata": {},
   "source": [
    "Loading table"
   ]
  },
  {
   "cell_type": "code",
   "execution_count": 2,
   "id": "bebc0fbf",
   "metadata": {},
   "outputs": [],
   "source": [
    "table = pd.read_csv('BR-21.csv')"
   ]
  },
  {
   "cell_type": "markdown",
   "id": "82da7133",
   "metadata": {},
   "source": [
    "Generate table"
   ]
  },
  {
   "cell_type": "code",
   "execution_count": 3,
   "id": "04505c88",
   "metadata": {},
   "outputs": [],
   "source": [
    "# columns = ['MATCHWEEK','HTEAM','ATEAM','HGK','HDEF1','HDEF2','HDEF3','HDEF4','HDEF5','HMID1','HMID2','HMID3','HMID4','HMID5','HMID6','HFOR1','HFOR2','HFOR3','HFOR4','HFOR5','AGK','ADEF1','ADEF2','ADEF3','ADEF4','ADEF5','AMID1','AMID2','AMID3','AMID4','AMID5','AMID6','AFOR1','AFOR2','AFOR3','AFOR4','AFOR5','HFULLGOAL','AFULLGOAL','FULLRESULT']\n",
    "# table = pd.DataFrame(columns=columns)"
   ]
  },
  {
   "cell_type": "markdown",
   "id": "310ee784",
   "metadata": {},
   "source": [
    "# Functions"
   ]
  },
  {
   "cell_type": "code",
   "execution_count": 4,
   "id": "f202dfa2",
   "metadata": {},
   "outputs": [],
   "source": [
    "def formatstr(string):\n",
    "    return string.lower().replace(\" \",\"\").replace(\"á\",\"a\").replace(\"ã\",\"a\").replace(\"ê\",\"e\").replace(\"é\",\"e\").replace(\"í\",\"i\").replace(\"ó\",\"o\").replace(\"õ\",\"o\").replace(\"ú\",\"u\")"
   ]
  },
  {
   "cell_type": "code",
   "execution_count": 5,
   "id": "cc8920e0",
   "metadata": {
    "scrolled": false
   },
   "outputs": [],
   "source": [
    "def append_matchweeks(start_matchweek, end_matchweek):\n",
    "    \n",
    "    global table\n",
    "    \n",
    "    PATH = '/home/matheus/chromedriver'\n",
    "    driver = webdriver.Chrome(PATH)\n",
    "\n",
    "    driver.get('https://ge.globo.com/futebol/brasileirao-serie-a/')\n",
    "\n",
    "    try:\n",
    "        cookie_btn = WebDriverWait(driver, 10).until(\n",
    "            EC.presence_of_element_located((By.CSS_SELECTOR, \"button.cookie-banner-lgpd_accept-button\"))\n",
    "        )\n",
    "        cookie_btn.click()\n",
    "    except:\n",
    "        print('ALERT: Could not find cookie button.')\n",
    "\n",
    "    leftarrow = driver.find_element_by_css_selector(\"span.lista-jogos__navegacao--setas.lista-jogos__navegacao--seta-esquerda\")\n",
    "    rightarrow = driver.find_element_by_css_selector(\"span.lista-jogos__navegacao--setas.lista-jogos__navegacao--seta-direita\")\n",
    "\n",
    "    matchweek = driver.find_element_by_css_selector(\"span.lista-jogos__navegacao--rodada\").text\n",
    "\n",
    "    ind = matchweek.index('ª')\n",
    "    matchweek = matchweek[:ind]\n",
    "\n",
    "    while matchweek != str(start_matchweek):\n",
    "        leftarrow.click()\n",
    "        matchweek = driver.find_element_by_css_selector(\"span.lista-jogos__navegacao--rodada\").text\n",
    "        ind = matchweek.index('ª')\n",
    "        matchweek = matchweek[:ind]\n",
    "\n",
    "    matchweek = int(matchweek)\n",
    "\n",
    "    while matchweek <= end_matchweek:\n",
    "\n",
    "        try:\n",
    "            WebDriverWait(driver, 10).until(\n",
    "                EC.presence_of_element_located((By.CSS_SELECTOR, \"a.jogo__transmissao--link\"))\n",
    "            )\n",
    "            time.sleep(2)\n",
    "            containers = driver.find_elements_by_css_selector(\"a.jogo__transmissao--link\")\n",
    "        except:\n",
    "            driver.quit()\n",
    "            print('ERROR: Could not find containers.')\n",
    "\n",
    "        for container in containers:\n",
    "\n",
    "            actions = ActionChains(driver)\n",
    "\n",
    "            actions.key_down(Keys.CONTROL).click(container).key_up(Keys.CONTROL).perform()\n",
    "\n",
    "            time.sleep(1)\n",
    "\n",
    "            driver.switch_to.window(driver.window_handles[-1])\n",
    "\n",
    "            ### Getting team names\n",
    "            try:\n",
    "                WebDriverWait(driver, 10).until(\n",
    "                    EC.presence_of_element_located((By.CSS_SELECTOR, \"strong.ficha-jogo__time__jogadores__lista__jogador-identificacao\"))\n",
    "                )\n",
    "                team_names_long = driver.find_elements_by_css_selector(\"h1.placar__equipe__header__nome\")\n",
    "                team_names_short = driver.find_elements_by_css_selector(\"h1.ficha-jogo__time__header-sigla\")\n",
    "            except:\n",
    "                driver.quit()\n",
    "                print('ERROR: Could not find strong.ficha-jogo...')\n",
    "\n",
    "            HOME_LONG = formatstr(team_names_long[0].text)\n",
    "            AWAY_LONG = formatstr(team_names_long[1].text)\n",
    "            HOME_SHORT = team_names_short[0].text\n",
    "            AWAY_SHORT = team_names_short[1].text\n",
    "\n",
    "            ### Getting results\n",
    "            home_goals = int(driver.find_elements_by_css_selector(\"strong.placar__equipe__resultado__gols\")[0].text)\n",
    "            away_goals = int(driver.find_elements_by_css_selector(\"strong.placar__equipe__resultado__gols\")[1].text)\n",
    "            print(\"{} goals...OK \".format(HOME_LONG.upper()))\n",
    "            print(\"{} goals...OK \".format(AWAY_LONG.upper()))\n",
    "            if home_goals > away_goals:\n",
    "                FULLRESULT = 'H'\n",
    "            elif home_goals < away_goals:\n",
    "                FULLRESULT = 'A'\n",
    "            elif home_goals == away_goals:\n",
    "                FULLRESULT = 'D'\n",
    "\n",
    "            ### Getting Tacticals and Players\n",
    "            tacticals = driver.find_elements_by_class_name(\"ficha-jogo__time__esquema\")\n",
    "\n",
    "            home_defenders_number = int(tacticals[0].text.replace(\" \",\"\").split(\"-\")[0])\n",
    "            home_midfielders_number = int(tacticals[0].text.replace(\" \",\"\").split(\"-\")[1])\n",
    "            home_forwards_number = int(tacticals[0].text.replace(\" \",\"\").split(\"-\")[2])\n",
    "\n",
    "            away_defenders_number = int(tacticals[1].text.replace(\" \",\"\").split(\"-\")[0])\n",
    "            away_midfielders_number = int(tacticals[1].text.replace(\" \",\"\").split(\"-\")[1])\n",
    "            away_forwards_number = int(tacticals[1].text.replace(\" \",\"\").split(\"-\")[2])\n",
    "            print(\"{} tacticals...OK \".format(HOME_LONG.upper()))\n",
    "            print(\"{} tacticals...OK \".format(AWAY_LONG.upper()))\n",
    "\n",
    "            home_players_container = driver.find_elements_by_class_name(\"ficha-jogo__time__jogadores__lista\")[0]\n",
    "            away_players_container = driver.find_elements_by_class_name(\"ficha-jogo__time__jogadores__lista\")[1]\n",
    "\n",
    "            home_players = []\n",
    "            away_players = []\n",
    "\n",
    "            lis = home_players_container.find_elements_by_tag_name(\"li\")\n",
    "            for each in lis:\n",
    "                if (each.get_attribute(\"class\") == \"ficha-jogo__time__jogadores__lista__jogador\") | (each.get_attribute(\"class\") == \"ficha-jogo__time__jogadores__lista__jogador ficha-jogo__time__jogadores__lista__jogador__substituido ficha-jogo__time__jogadores__lista__jogador__substituido-sai\") | (each.get_attribute(\"class\") == \"ficha-jogo__time__jogadores__lista__jogador ficha-jogo__time__jogadores__lista__jogador__expulso\") | (each.get_attribute(\"class\") == \"ficha-jogo__time__jogadores__lista__jogador ficha-jogo__time__jogadores__lista__jogador__substituido ficha-jogo__time__jogadores__lista__jogador__substituido-sai ficha-jogo__time__jogadores__lista__jogador__expulso\"):\n",
    "                    name = each.find_element_by_css_selector(\"strong.ficha-jogo__time__jogadores__lista__jogador-identificacao\").text\n",
    "                    home_players.append(name)\n",
    "\n",
    "            lis = away_players_container.find_elements_by_tag_name(\"li\")\n",
    "            for each in lis:\n",
    "                if (each.get_attribute(\"class\") == \"ficha-jogo__time__jogadores__lista__jogador\") | (each.get_attribute(\"class\") == \"ficha-jogo__time__jogadores__lista__jogador ficha-jogo__time__jogadores__lista__jogador__substituido ficha-jogo__time__jogadores__lista__jogador__substituido-sai\") | (each.get_attribute(\"class\") == \"ficha-jogo__time__jogadores__lista__jogador ficha-jogo__time__jogadores__lista__jogador__expulso\") | (each.get_attribute(\"class\") == \"ficha-jogo__time__jogadores__lista__jogador ficha-jogo__time__jogadores__lista__jogador__substituido ficha-jogo__time__jogadores__lista__jogador__substituido-sai ficha-jogo__time__jogadores__lista__jogador__expulso\"):\n",
    "                    name = each.find_element_by_css_selector(\"strong.ficha-jogo__time__jogadores__lista__jogador-identificacao\").text\n",
    "                    away_players.append(name)\n",
    "\n",
    "            for i, x in enumerate(home_players):\n",
    "                home_players[i] = formatstr(x)\n",
    "\n",
    "            for i, x in enumerate(away_players):\n",
    "                away_players[i] = formatstr(x)\n",
    "\n",
    "            home_defenders_to_fill = 5 - home_defenders_number\n",
    "            home_midfielders_to_fill = 6 - home_midfielders_number\n",
    "            home_forwards_to_fill = 5 - home_forwards_number\n",
    "\n",
    "            away_defenders_to_fill = 5 - away_defenders_number\n",
    "            away_midfielders_to_fill = 6 - away_midfielders_number\n",
    "            away_forwards_to_fill = 5 - away_forwards_number\n",
    "\n",
    "            for i in range(home_defenders_to_fill):\n",
    "                home_players.insert(home_defenders_number+1+i, \"none\")\n",
    "\n",
    "            for i in range(home_midfielders_to_fill):\n",
    "                home_players.insert(home_midfielders_number+6+i, \"none\")\n",
    "\n",
    "            for i in range(home_forwards_to_fill):\n",
    "                home_players.insert(home_forwards_number+12+i, \"none\")        \n",
    "\n",
    "            for i in range(away_defenders_to_fill):\n",
    "                away_players.insert(away_defenders_number+1+i, \"none\")\n",
    "\n",
    "            for i in range(away_midfielders_to_fill):\n",
    "                away_players.insert(away_midfielders_number+6+i, \"none\")\n",
    "\n",
    "            for i in range(away_forwards_to_fill):\n",
    "                away_players.insert(away_forwards_number+12+i, \"none\")\n",
    "\n",
    "            print(\"{} players...OK \".format(HOME_LONG.upper()))\n",
    "            print(\"{} players...OK \".format(AWAY_LONG.upper()))\n",
    "            \n",
    "            ### Appending team short name to players name so they'll be unique values for each player\n",
    "            for i,x in enumerate(home_players):\n",
    "                home_players[i] = HOME_SHORT + '_' + x\n",
    "\n",
    "            for i,x in enumerate(away_players):\n",
    "                away_players[i] = AWAY_SHORT + '_' + x\n",
    "                \n",
    "            ### Generating table observation\n",
    "            match = [matchweek] + [HOME_LONG.upper()] + [AWAY_LONG.upper()] + home_players + away_players + [home_goals] + [away_goals] + [FULLRESULT]\n",
    "\n",
    "            series = pd.Series(match, index=table.columns)\n",
    "            table = table.append(series, ignore_index=True)\n",
    "\n",
    "            driver.close()\n",
    "\n",
    "            time.sleep(1)\n",
    "\n",
    "            driver.switch_to.window(driver.window_handles[0])\n",
    "\n",
    "            time.sleep(1)\n",
    "\n",
    "        matchweek += 1\n",
    "        if matchweek < end_matchweek:\n",
    "            rightarrow.click()\n",
    "\n",
    "\n",
    "        time.sleep(2)\n",
    "    return table"
   ]
  },
  {
   "cell_type": "markdown",
   "id": "1bce3cd6",
   "metadata": {},
   "source": [
    "# Web scraping in action"
   ]
  },
  {
   "cell_type": "markdown",
   "id": "dafe6f0d",
   "metadata": {},
   "source": [
    "To get full matchweeks, just pass to the function the start_matchweek and end_matchweek parameters to the **append_matchweeks** function"
   ]
  },
  {
   "cell_type": "code",
   "execution_count": 6,
   "id": "63ac291b",
   "metadata": {},
   "outputs": [],
   "source": [
    "# append_matchweeks(1,36)"
   ]
  },
  {
   "cell_type": "markdown",
   "id": "281ac809",
   "metadata": {},
   "source": [
    "# Checking data consistency"
   ]
  },
  {
   "cell_type": "code",
   "execution_count": 7,
   "id": "41213716",
   "metadata": {},
   "outputs": [
    {
     "data": {
      "image/png": "[encoded data removed]",
      "text/plain": [
       "<Figure size 432x288 with 1 Axes>"
      ]
     },
     "metadata": {
      "needs_background": "light"
     },
     "output_type": "display_data"
    }
   ],
   "source": [
    "sns.countplot(table['HTEAM'])\n",
    "plt.xticks(rotation=90)\n",
    "plt.show()"
   ]
  },
  {
   "cell_type": "code",
   "execution_count": 8,
   "id": "54aceefd",
   "metadata": {},
   "outputs": [
    {
     "data": {
      "image/png": "[encoded data removed]",
      "text/plain": [
       "<Figure size 432x288 with 1 Axes>"
      ]
     },
     "metadata": {
      "needs_background": "light"
     },
     "output_type": "display_data"
    }
   ],
   "source": [
    "sns.countplot(table['ATEAM'])\n",
    "plt.xticks(rotation=90)\n",
    "plt.show()"
   ]
  },
  {
   "cell_type": "code",
   "execution_count": 9,
   "id": "70801ef9",
   "metadata": {},
   "outputs": [
    {
     "data": {
      "image/png": "[encoded data removed]",
      "text/plain": [
       "<Figure size 432x288 with 1 Axes>"
      ]
     },
     "metadata": {
      "needs_background": "light"
     },
     "output_type": "display_data"
    }
   ],
   "source": [
    "sns.countplot(table['MATCHWEEK'])\n",
    "plt.xticks(rotation=90)\n",
    "plt.show()"
   ]
  },
  {
   "cell_type": "code",
   "execution_count": 10,
   "id": "88cdce7a",
   "metadata": {},
   "outputs": [
    {
     "data": {
      "text/plain": [
       "0"
      ]
     },
     "execution_count": 10,
     "metadata": {},
     "output_type": "execute_result"
    }
   ],
   "source": [
    "table.duplicated(subset=['HTEAM','ATEAM']).sum()"
   ]
  },
  {
   "cell_type": "markdown",
   "id": "ccf9d8a1",
   "metadata": {},
   "source": [
    "### Getting X and Y"
   ]
  },
  {
   "cell_type": "markdown",
   "id": "04680cc8",
   "metadata": {},
   "source": [
    "We are now separating the Features (teams and players) and the Target (match result)"
   ]
  },
  {
   "cell_type": "code",
   "execution_count": 11,
   "id": "eaf164f8",
   "metadata": {},
   "outputs": [],
   "source": [
    "X = table.iloc[:, 1:-3].values\n",
    "y = table.iloc[:,-1].values"
   ]
  },
  {
   "cell_type": "markdown",
   "id": "15be4b9d",
   "metadata": {},
   "source": [
    "### Label Encoding"
   ]
  },
  {
   "cell_type": "code",
   "execution_count": 12,
   "id": "c9a41ccc",
   "metadata": {},
   "outputs": [],
   "source": [
    "labelencoder = LabelEncoder()\n",
    "\n",
    "for i in range(36):\n",
    "    X[:,i] = labelencoder.fit_transform(X[:,i])"
   ]
  },
  {
   "cell_type": "markdown",
   "id": "0a2b4c5d",
   "metadata": {},
   "source": [
    "### Saving table and pickle"
   ]
  },
  {
   "cell_type": "code",
   "execution_count": 13,
   "id": "54145a00",
   "metadata": {},
   "outputs": [],
   "source": [
    "# table.to_csv('BR-21.csv', index=False)"
   ]
  },
  {
   "cell_type": "code",
   "execution_count": 14,
   "id": "31f4253c",
   "metadata": {},
   "outputs": [],
   "source": [
    "# import pickle\n",
    "# with open('BR-21.pkl', 'wb') as f:\n",
    "#     pickle.dump([X, y], f)"
   ]
  },
  {
   "cell_type": "markdown",
   "id": "31e5d940",
   "metadata": {},
   "source": [
    "------"
   ]
  }
 ],
 "metadata": {
  "kernelspec": {
   "display_name": "Python 3",
   "language": "python",
   "name": "python3"
  },
  "language_info": {
   "codemirror_mode": {
    "name": "ipython",
    "version": 3
   },
   "file_extension": ".py",
   "mimetype": "text/x-python",
   "name": "python",
   "nbconvert_exporter": "python",
   "pygments_lexer": "ipython3",
   "version": "3.8.8"
  }
 },
 "nbformat": 4,
 "nbformat_minor": 5
}
